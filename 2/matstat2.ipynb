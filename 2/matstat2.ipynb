{
 "cells": [
  {
   "cell_type": "code",
   "execution_count": 6,
   "metadata": {},
   "outputs": [],
   "source": [
    "# Начальные данные. Функции\n",
    "\n",
    "import numpy as np\n",
    "import math\n",
    "import random\n",
    "import seaborn as sb\n",
    "import matplotlib.pyplot as plt\n",
    "from prettytable import PrettyTable\n",
    "\n",
    "np.set_printoptions(precision=7, suppress=True)\n",
    "\n",
    "k = 8\n",
    "p = 0.7\n",
    "n = 140\n",
    "\n",
    "def print_table(th, td):\n",
    "    table = PrettyTable(th)\n",
    "    columns = len(th) \n",
    "    td_data = td.tolist()[:]\n",
    "    while td_data:\n",
    "        table.add_row(td_data[:columns])\n",
    "        td_data = td_data[columns:]\n",
    "    print(table)"
   ]
  },
  {
   "cell_type": "code",
   "execution_count": 7,
   "metadata": {},
   "outputs": [
    {
     "name": "stdout",
     "output_type": "stream",
     "text": [
      "Вариант 9\n",
      "k = 8 \n",
      "p = 0.7 \n",
      "n = 140\n",
      "Моделируем вектор из n случайных чисел\n",
      "\n",
      "y =  [0.266936  0.7842311 0.4531888 0.1990223 0.3293414 0.6545052 0.3954182\n",
      " 0.6657917 0.2498446 0.1942755 0.9656344 0.8465385 0.3002077 0.5724052\n",
      " 0.8758306 0.6200511 0.8643499 0.5710674 0.0335136 0.7234802 0.2256729\n",
      " 0.5121496 0.6358605 0.9993518 0.4085601 0.9132972 0.8817268 0.7498\n",
      " 0.1810704 0.7516679 0.8105396 0.9403258 0.1227512 0.3539665 0.8588288\n",
      " 0.6911343 0.57734   0.7338771 0.9664647 0.7707313 0.4987815 0.6448494\n",
      " 0.8323934 0.4875341 0.934088  0.5710398 0.4357102 0.3878098 0.1112173\n",
      " 0.7519835 0.7271448 0.3709952 0.5177602 0.3997271 0.6024594 0.7959922\n",
      " 0.1397954 0.8114722 0.3786963 0.5878266 0.0708204 0.3614049 0.7075504\n",
      " 0.7641378 0.5151809 0.8010712 0.6737845 0.9490169 0.7928962 0.2591068\n",
      " 0.4813019 0.1553494 0.5087921 0.9049497 0.1319899 0.5302647 0.26626\n",
      " 0.5092688 0.5982935 0.3654102 0.7808799 0.6889092 0.0610633 0.20765\n",
      " 0.5236411 0.276905  0.8658901 0.1965937 0.3191942 0.0791149 0.0054974\n",
      " 0.4621366 0.482847  0.5774671 0.6895849 0.4074281 0.6319053 0.0790047\n",
      " 0.1632496 0.3470771 0.0588217 0.8203829 0.4309417 0.6277403 0.6130959\n",
      " 0.8591229 0.9861181 0.9658068 0.1412417 0.3568135 0.5829277 0.5129785\n",
      " 0.3777786 0.6573104 0.9485221 0.5381325 0.3745824 0.1242179 0.9220666\n",
      " 0.8069266 0.1689076 0.4468342 0.1976801 0.0939877 0.7582923 0.5353117\n",
      " 0.7899697 0.1405682 0.0024542 0.9349976 0.5887163 0.6671109 0.4701689\n",
      " 0.7902956 0.6017149 0.7823655 0.5702849 0.6546382 0.6259202 0.3492833]\n",
      "\n",
      "\n",
      "По вектору y разыгрываем вектор x в соответствии с алгоритмом\n",
      "\n",
      "x =  [5 7 6 5 5 6 5 6 5 5 8 7 5 6 7 6 7 6 3 6 5 6 6 8 5 7 7 7 4 7 7 7 4 5 7 6 6\n",
      " 6 8 7 6 6 7 6 7 6 5 5 4 7 6 5 6 5 6 7 4 7 5 6 4 5 6 7 6 7 6 8 7 5 6 4 6 7\n",
      " 4 6 5 6 6 5 7 6 4 5 6 5 7 5 5 4 2 6 6 6 6 5 6 4 4 5 4 7 5 6 6 7 8 8 4 5 6\n",
      " 6 5 6 8 6 5 4 7 7 4 5 5 4 7 6 7 4 2 7 6 6 6 7 6 7 6 6 6 5]\n",
      "\n",
      "\n",
      "Строим статистический ряд (здесь n=140)\n",
      "\n",
      "+-----------------------+-----+-----+-------+-------+-------+-------+-------+-------+------+\n",
      "|      Значение СВ      |  0  |  1  |   2   |   3   |   4   |   5   |   6   |   7   |  8   |\n",
      "+-----------------------+-----+-----+-------+-------+-------+-------+-------+-------+------+\n",
      "|        Частоты        | 0.0 | 0.0 |  2.0  |  1.0  |  17.0 |  32.0 |  49.0 |  32.0 | 7.0  |\n",
      "| Относительные частоты | 0.0 | 0.0 | 0.014 | 0.007 | 0.121 | 0.229 |  0.35 | 0.229 | 0.05 |\n",
      "| Накопительные частоты | 0.0 | 0.0 | 0.014 | 0.021 | 0.143 | 0.371 | 0.721 |  0.95 | 1.0  |\n",
      "+-----------------------+-----+-----+-------+-------+-------+-------+-------+-------+------+\n",
      "Находим теоретический закон\n",
      "\n",
      "+---------------------+-------+---------+---------+---------+---------+---------+---------+---------+---------+\n",
      "|     Значение СВ     |   0   |    1    |    2    |    3    |    4    |    5    |    6    |    7    |    8    |\n",
      "+---------------------+-------+---------+---------+---------+---------+---------+---------+---------+---------+\n",
      "|     Вероятности     | 7e-05 | 0.00122 |   0.01  | 0.04668 | 0.13614 | 0.25412 | 0.29648 | 0.19765 | 0.05765 |\n",
      "| Кумулятивные вер-ти | 7e-05 | 0.00129 | 0.01129 | 0.05797 |  0.1941 | 0.44823 |  0.7447 | 0.94235 |   1.0   |\n",
      "+---------------------+-------+---------+---------+---------+---------+---------+---------+---------+---------+\n",
      "\n",
      "\n",
      "Вероятности вычисляются по формуле Бернулли:\n",
      " p = [0.0000656 0.0012247 0.0100019 0.0466754 0.1361367 0.2541218 0.2964755\n",
      " 0.1976503 0.057648 ]\n",
      "\n",
      "\n",
      "Кумулятивные вероятности:\n",
      " u = [0.0000656 0.0012903 0.0112922 0.0579677 0.1941044 0.4482262 0.7447017\n",
      " 0.942352  1.       ]\n"
     ]
    }
   ],
   "source": [
    "# Генерация выборки. Частоты. Вероятности\n",
    "\n",
    "print(\"Вариант 9\\nk =\", k, \"\\np =\", p, \"\\nn =\", n)\n",
    "\n",
    "P = np.array([])\n",
    "for i in range(k + 1):\n",
    "    cur = math.comb(k, i) * p ** i * (1 - p) ** (k - i)\n",
    "    P = np.append(P, cur)\n",
    "    \n",
    "U = np.array([])\n",
    "s = 0\n",
    "for i in P:\n",
    "    s += i\n",
    "    U = np.append(U, s)\n",
    "\n",
    "y = np.array([])\n",
    "for i in range(n):\n",
    "    y = np.append(y, random.random())\n",
    "\n",
    "x = np.array([])\n",
    "for y_n in y:\n",
    "    for i in range(U.size):\n",
    "        if y_n < U[i]:\n",
    "            x = np.append(x, i)\n",
    "            break\n",
    "            \n",
    "frequency = np.array([])\n",
    "for i in range(k + 1):\n",
    "    frequency = np.append(frequency, np.count_nonzero(x == i))\n",
    "    \n",
    "relative_frequency = np.array([])\n",
    "for i in range(frequency.size):\n",
    "    relative_frequency = np.append(relative_frequency, frequency[i] / n) \n",
    "    \n",
    "accumulated_frequency = np.array([])\n",
    "s = 0\n",
    "for i in relative_frequency:\n",
    "    s += i\n",
    "    accumulated_frequency = np.append(accumulated_frequency, s)\n",
    "    \n",
    "print(\"Моделируем вектор из n случайных чисел\\n\")\n",
    "print(\"y = \", y)\n",
    "print(\"\\n\")\n",
    "print(\"По вектору y разыгрываем вектор x в соответствии с алгоритмом\\n\")\n",
    "print(\"x = \", x.astype(int))\n",
    "print(\"\\n\")\n",
    "print(\"Строим статистический ряд (здесь n=140)\\n\")\n",
    "th = ['Значение СВ', 0, 1, 2, 3, 4, 5, 6, 7, 8]\n",
    "td = ['Частоты']\n",
    "td = np.append(td, frequency)\n",
    "td = np.append(td, ['Относительные частоты'])\n",
    "td = np.append(td, np.around(relative_frequency, 3))\n",
    "td = np.append(td, ['Накопительные частоты'])\n",
    "td = np.append(td, np.around(accumulated_frequency, 3))\n",
    "\n",
    "print_table(th, td)\n",
    "\n",
    "print(\"Находим теоретический закон\\n\")\n",
    "th = ['Значение СВ', 0, 1, 2, 3, 4, 5, 6, 7, 8]\n",
    "td = ['Вероятности']\n",
    "td = np.append(td, np.around(P, 5))\n",
    "td = np.append(td, \"Кумулятивные вер-ти\")\n",
    "td = np.append(td, np.around(U, 5))\n",
    "print_table(th, td)\n",
    "print(\"\\n\")\n",
    "print(\"Вероятности вычисляются по формуле Бернулли:\\n p =\", P)\n",
    "print(\"\\n\")\n",
    "print(\"Кумулятивные вероятности:\\n u =\", U)"
   ]
  },
  {
   "cell_type": "code",
   "execution_count": 8,
   "metadata": {},
   "outputs": [
    {
     "name": "stdout",
     "output_type": "stream",
     "text": [
      "Строим совмещенные графики\n"
     ]
    },
    {
     "data": {
      "image/png": "[encoded data removed]",
      "text/plain": [
       "<Figure size 640x480 with 1 Axes>"
      ]
     },
     "metadata": {},
     "output_type": "display_data"
    }
   ],
   "source": [
    "# График. Совмещенные функции\n",
    "\n",
    "print(\"Строим совмещенные графики\")\n",
    "sb.set_style('whitegrid')\n",
    "z = range(0, 10)\n",
    "plt.step(z, [0.0] + U.tolist(), linewidth = 1.0, color='black')\n",
    "plt.step(z, [0.0] + accumulated_frequency.tolist(), linewidth = 1.0, color='red')\n",
    "plt.xlabel(\"z\")\n",
    "plt.ylabel(\"Черный: F(z)\\nКрасный: F14e0(z)\")\n",
    "plt.show()"
   ]
  },
  {
   "cell_type": "code",
   "execution_count": 9,
   "metadata": {},
   "outputs": [
    {
     "name": "stdout",
     "output_type": "stream",
     "text": [
      "Вычисление статистики Колмогорова для выборки из дискретного закона\n",
      "\n",
      "+---------------+----------+--------+--------+--------+--------+--------+--------+--------+--------+----------+\n",
      "|   Интервалы   | (-inf,0] | (0,1]  | (1,2]  | (2,3]  | (3,4]  | (4,5]  | (5,6]  | (6,7]  | (7,8]  | (8,+inf) |\n",
      "+---------------+----------+--------+--------+--------+--------+--------+--------+--------+--------+----------+\n",
      "|  Эмпирическая |    0     |  0.0   |  0.0   | 0.0143 | 0.0214 | 0.1429 | 0.3714 | 0.7214 |  0.95  |   1.0    |\n",
      "|    функция    |          |        |        |        |        |        |        |        |        |          |\n",
      "| распределения |          |        |        |        |        |        |        |        |        |          |\n",
      "|               |          |        |        |        |        |        |        |        |        |          |\n",
      "| Теоретическая |    0     | 0.0001 | 0.0013 | 0.0113 | 0.058  | 0.1941 | 0.4482 | 0.7447 | 0.9424 |   1.0    |\n",
      "|    функция    |          |        |        |        |        |        |        |        |        |          |\n",
      "| распределения |          |        |        |        |        |        |        |        |        |          |\n",
      "|               |          |        |        |        |        |        |        |        |        |          |\n",
      "|     Модуль    |   0.0    | 0.0001 | 0.0013 | 0.003  | 0.0365 | 0.0512 | 0.0768 | 0.0233 | 0.0076 |   0.0    |\n",
      "|    разности   |          |        |        |        |        |        |        |        |        |          |\n",
      "|               |          |        |        |        |        |        |        |        |        |          |\n",
      "+---------------+----------+--------+--------+--------+--------+--------+--------+--------+--------+----------+\n",
      "Статистика Колмагорова:\n",
      " 0.07679761857142864\n"
     ]
    }
   ],
   "source": [
    "# Статистика Колмагорова\n",
    "\n",
    "modul = np.array([0])\n",
    "for i in range(k + 1):\n",
    "    modul = np.append(modul, abs(accumulated_frequency[i] - U[i]))\n",
    "    \n",
    "print(\"Вычисление статистики Колмогорова для выборки из дискретного закона\\n\")\n",
    "th = ['Интервалы', '(-inf,0]', '(0,1]', '(1,2]', '(2,3]', '(3,4]', '(4,5]', '(5,6]', '(6,7]', '(7,8]', '(8,+inf)']\n",
    "td = ['Эмпирическая\\nфункция\\nраспределения\\n', 0]\n",
    "td = np.append(td, np.around(accumulated_frequency,4))\n",
    "td = np.append(td, ['Теоретическая\\nфункция\\nраспределения\\n'])\n",
    "td = np.append(td, 0)\n",
    "td = np.append(td, np.around(U, 4))\n",
    "td = np.append(td, ['Модуль\\nразности\\n'])\n",
    "td = np.append(td, np.around(modul, 4))\n",
    "\n",
    "print_table(th, td)\n",
    "\n",
    "print(\"Статистика Колмагорова:\\n\", np.amax(modul))"
   ]
  },
  {
   "cell_type": "code",
   "execution_count": 10,
   "metadata": {},
   "outputs": [
    {
     "name": "stdout",
     "output_type": "stream",
     "text": [
      "Вычисление эмпирических и теоретических характеристик\n",
      "\n",
      "Абсолютная величина разности выборочного среднего и теоретического мат ожидания мало\n",
      " 0.17857\n",
      "Отношение среднеквадратичных отклонений близко к единице\n",
      " 0.80347\n",
      "Следовательно, результаты моделирования можно признать удовлетворительными.\n"
     ]
    }
   ],
   "source": [
    "# Вычисление характеристик. Вывод\n",
    "\n",
    "print(\"Вычисление эмпирических и теоретических характеристик\\n\")\n",
    "\n",
    "mn = x.mean()\n",
    "m = sum(P[i] * i for i in range(k + 1))\n",
    "D = sum((i - m) ** 2 * P[i] for i in range(k + 1))\n",
    "S2 = 1/179 * sum((x[i] - mn) ** 2 for i in range(n))\n",
    "\n",
    "print(\"Абсолютная величина разности выборочного среднего и теоретического мат ожидания мало\\n\", np.around(abs(mn-m), 5))\n",
    "print(\"Отношение среднеквадратичных отклонений близко к единице\\n\", np.around(math.sqrt(S2/D), 5))\n",
    "print(\"Следовательно, результаты моделирования можно признать удовлетворительными.\")\n"
   ]
  }
 ],
 "metadata": {
  "kernelspec": {
   "display_name": "Python 3",
   "language": "python",
   "name": "python3"
  },
  "language_info": {
   "codemirror_mode": {
    "name": "ipython",
    "version": 3
   },
   "file_extension": ".py",
   "mimetype": "text/x-python",
   "name": "python",
   "nbconvert_exporter": "python",
   "pygments_lexer": "ipython3",
   "version": "3.10.7"
  },
  "orig_nbformat": 4,
  "vscode": {
   "interpreter": {
    "hash": "26de051ba29f2982a8de78e945f0abaf191376122a1563185a90213a26c5da77"
   }
  }
 },
 "nbformat": 4,
 "nbformat_minor": 2
}
